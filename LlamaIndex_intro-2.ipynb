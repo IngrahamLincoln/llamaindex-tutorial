{
 "cells": [
  {
   "cell_type": "markdown",
   "id": "507209eb-f09b-4f2b-987f-f7686c966536",
   "metadata": {},
   "source": [
    "\n",
    "# Introduction to LlamaIndex: High-Level Concepts\n",
    "\n",
    "Welcome to this workshop on LlamaIndex! Before we dive into the code, let's explore some key concepts that will help you understand how LlamaIndex works and what it can do for your LLM-powered applications.\n",
    "\n",
    "## What is LlamaIndex?\n",
    "\n",
    "LlamaIndex is a data framework designed to help developers build applications with large language models (LLMs) that can interact with external data sources. It provides tools for data ingestion, structuring, indexing, and querying, bridging the gap between LLMs and custom datasets.\n",
    "\n",
    "## Key Use Cases\n",
    "\n",
    "LlamaIndex supports four main categories of use cases:\n",
    "\n",
    "1. **Structured Data Extraction**: Extract precise data structures from unstructured sources like PDFs and websites.\n",
    "2. **Query Engines**: Ask questions over your data and get responses with referenced context.\n",
    "3. **Chat Engines**: Have multi-turn conversations with your data.\n",
    "4. **Agents**: Create LLM-powered decision-makers that can complete complex tasks using a set of tools.\n",
    "\n",
    "## Retrieval Augmented Generation (RAG)\n",
    "\n",
    "RAG is a fundamental concept in LLM workflows It allows you to augment LLM knowledge with your own data. The RAG process typically involves:\n",
    "\n",
    "1. Loading your data\n",
    "2. Indexing the data (often using vector embeddings)\n",
    "3. Storing the indexed data\n",
    "4. Querying the data\n",
    "5. Evaluating the results\n",
    "\n",
    "## Important Concepts\n",
    "\n",
    "As you work with LlamaIndex, you'll encounter these key concepts:\n",
    "\n",
    "- **Nodes and Documents**: Containers for your data at different levels of granularity.\n",
    "- **Connectors**: Tools to ingest data from various sources.\n",
    "    - You can even use LLMs themselves as a way to read and determine whether data gets ingested, summarized and ingested, or ignored.\n",
    "    - For this notebook we're using SimpleDirectoryReader, but there are others like DatabaseReader, which runs a query against a SQL database and returns every row of the results as a Document. There are hundreds of connectors to use on LlamaHub. ![Llamahub](llamahub.png)\n",
    "- **Indexes**: Structures to organize your data for efficient retrieval.\n",
    "    - **Vector Store Index** (most common but there are others):\n",
    "\n",
    "        Splits documents into Nodes\n",
    "        Creates vector embeddings of each node's text\n",
    "        Enables semantic search\n",
    "        Uses \"top-k semantic retrieval\" for querying\n",
    " \n",
    "      We're using faiss, but there are many others such as chromadb, and pinecone. Choosing them is based on factors like cost, speed of input/output, accuracy, and scalability. \n",
    "      \n",
    "    - **Knowledge graph**\n",
    " \n",
    "        A Knowledge Graph Index in LlamaIndex represents data as a network of interconnected entities and **relationships**. This index type is particularly useful for:\n",
    "\n",
    "        Modeling complex, interconnected data structures\n",
    "        Capturing relationships between different pieces of information\n",
    "        Enabling more contextual and relationship-based querying\n",
    "\n",
    " \n",
    "\n",
    "- **Embeddings**: Numerical representations of your data's meaning.\n",
    "    - **Vector embeddings**:\n",
    "        \n",
    "        Numerical representations of text semantics\n",
    "        Allow finding related text based on meaning, not just keywords\n",
    "        Default embedding in LlamaIndex is OpenAI's text-embedding-ada-002 **we're using BAAI/bge-small-en-v1.5 for it's high scoring  on benchmarks, but the default works just fine.** Each embedding model has a dimension, or length of the floating point that meaning is stored as. it is important to make sure that your embedding model, and your vector store dimensions are compatible. \n",
    "         \n",
    "    - **Embedding process**:\n",
    "        \n",
    "        Can be time-consuming and potentially expensive for large amounts of text\n",
    "        It's recommended to store embeddings for future use (vector store) **its possible to set up your RAG the wrong way** and it will embed your entire dataset every time you ask a question. seconds to hours of lost time. \n",
    "- **Retrievers**: Methods to fetch relevant context from your index.\n",
    "    - Usually, your prompt to an LLM gets embedded and a similarity search is performed between your query and the nodes in the datastore. There are many other retrieval strategies.\n",
    "    - chunk size: how much text is in each node.\n",
    "    - chunk overlap: how much text from the previous and next chunks are represented in the current chunk.\n",
    "    - top_k: number of chunks returned, usually ranked by most relavant (semantic similarity).\n",
    "- **Routers**: Tools to select the appropriate retriever for a given query.\n",
    "- **Node Postprocessors**: Functions to transform, filter, or re-rank retrieved nodes.\n",
    "    - Postprocessing is when the Nodes retrieved are optionally reranked, transformed, or filtered, for instance by requiring that they have specific metadata such as keywords attached.\n",
    " \n",
    "- **Response Synthesizers**: Components that generate LLM responses using retrieved context.\n",
    "    - Response synthesis is when your query, your most-relevant data and your prompt are combined and sent to your LLM to return a response.\n",
    "    - Users may expect that the final response contains some degree of structure (e.g. a JSON output, a formatted SQL query, etc.)\n",
    "      \n",
    "\n"
   ]
  },
  {
   "cell_type": "code",
   "execution_count": 1,
   "id": "18d2f2bf-b406-4dff-a090-20780091a762",
   "metadata": {
    "collapsed": true,
    "jupyter": {
     "outputs_hidden": true
    },
    "scrolled": true
   },
   "outputs": [
    {
     "name": "stdout",
     "output_type": "stream",
     "text": [
      "Defaulting to user installation because normal site-packages is not writeable\n",
      "Requirement already satisfied: llama-index-llms-ollama in ./.local/lib/python3.10/site-packages (0.2.2)\n",
      "Requirement already satisfied: llama-index-core<0.11.0,>=0.10.1 in ./.local/lib/python3.10/site-packages (from llama-index-llms-ollama) (0.10.68.post1)\n",
      "Requirement already satisfied: ollama>=0.3.0 in ./.local/lib/python3.10/site-packages (from llama-index-llms-ollama) (0.3.1)\n",
      "Requirement already satisfied: PyYAML>=6.0.1 in /opt/tljh/user/lib/python3.10/site-packages (from llama-index-core<0.11.0,>=0.10.1->llama-index-llms-ollama) (6.0.1)\n",
      "Requirement already satisfied: SQLAlchemy>=1.4.49 in /opt/tljh/user/lib/python3.10/site-packages (from SQLAlchemy[asyncio]>=1.4.49->llama-index-core<0.11.0,>=0.10.1->llama-index-llms-ollama) (2.0.31)\n",
      "Requirement already satisfied: aiohttp<4.0.0,>=3.8.6 in ./.local/lib/python3.10/site-packages (from llama-index-core<0.11.0,>=0.10.1->llama-index-llms-ollama) (3.10.3)\n",
      "Requirement already satisfied: dataclasses-json in ./.local/lib/python3.10/site-packages (from llama-index-core<0.11.0,>=0.10.1->llama-index-llms-ollama) (0.6.7)\n",
      "Requirement already satisfied: deprecated>=1.2.9.3 in ./.local/lib/python3.10/site-packages (from llama-index-core<0.11.0,>=0.10.1->llama-index-llms-ollama) (1.2.14)\n",
      "Requirement already satisfied: dirtyjson<2.0.0,>=1.0.8 in ./.local/lib/python3.10/site-packages (from llama-index-core<0.11.0,>=0.10.1->llama-index-llms-ollama) (1.0.8)\n",
      "Requirement already satisfied: fsspec>=2023.5.0 in ./.local/lib/python3.10/site-packages (from llama-index-core<0.11.0,>=0.10.1->llama-index-llms-ollama) (2024.6.1)\n",
      "Requirement already satisfied: httpx in /opt/tljh/user/lib/python3.10/site-packages (from llama-index-core<0.11.0,>=0.10.1->llama-index-llms-ollama) (0.27.0)\n",
      "Requirement already satisfied: nest-asyncio<2.0.0,>=1.5.8 in /opt/tljh/user/lib/python3.10/site-packages (from llama-index-core<0.11.0,>=0.10.1->llama-index-llms-ollama) (1.6.0)\n",
      "Requirement already satisfied: networkx>=3.0 in ./.local/lib/python3.10/site-packages (from llama-index-core<0.11.0,>=0.10.1->llama-index-llms-ollama) (3.3)\n",
      "Requirement already satisfied: nltk!=3.9,>=3.8.1 in ./.local/lib/python3.10/site-packages (from llama-index-core<0.11.0,>=0.10.1->llama-index-llms-ollama) (3.8.2)\n",
      "Requirement already satisfied: numpy<2.0.0 in ./.local/lib/python3.10/site-packages (from llama-index-core<0.11.0,>=0.10.1->llama-index-llms-ollama) (1.26.4)\n",
      "Requirement already satisfied: pandas in ./.local/lib/python3.10/site-packages (from llama-index-core<0.11.0,>=0.10.1->llama-index-llms-ollama) (2.2.2)\n",
      "Requirement already satisfied: pillow>=9.0.0 in ./.local/lib/python3.10/site-packages (from llama-index-core<0.11.0,>=0.10.1->llama-index-llms-ollama) (10.4.0)\n",
      "Requirement already satisfied: pydantic<3.0 in ./.local/lib/python3.10/site-packages (from llama-index-core<0.11.0,>=0.10.1->llama-index-llms-ollama) (2.8.2)\n",
      "Requirement already satisfied: requests>=2.31.0 in /opt/tljh/user/lib/python3.10/site-packages (from llama-index-core<0.11.0,>=0.10.1->llama-index-llms-ollama) (2.32.3)\n",
      "Requirement already satisfied: tenacity!=8.4.0,<9.0.0,>=8.2.0 in ./.local/lib/python3.10/site-packages (from llama-index-core<0.11.0,>=0.10.1->llama-index-llms-ollama) (8.5.0)\n",
      "Requirement already satisfied: tiktoken>=0.3.3 in ./.local/lib/python3.10/site-packages (from llama-index-core<0.11.0,>=0.10.1->llama-index-llms-ollama) (0.7.0)\n",
      "Requirement already satisfied: tqdm<5.0.0,>=4.66.1 in ./.local/lib/python3.10/site-packages (from llama-index-core<0.11.0,>=0.10.1->llama-index-llms-ollama) (4.66.5)\n",
      "Requirement already satisfied: typing-extensions>=4.5.0 in /opt/tljh/user/lib/python3.10/site-packages (from llama-index-core<0.11.0,>=0.10.1->llama-index-llms-ollama) (4.12.2)\n",
      "Requirement already satisfied: typing-inspect>=0.8.0 in ./.local/lib/python3.10/site-packages (from llama-index-core<0.11.0,>=0.10.1->llama-index-llms-ollama) (0.9.0)\n",
      "Requirement already satisfied: wrapt in ./.local/lib/python3.10/site-packages (from llama-index-core<0.11.0,>=0.10.1->llama-index-llms-ollama) (1.16.0)\n",
      "Requirement already satisfied: aiohappyeyeballs>=2.3.0 in ./.local/lib/python3.10/site-packages (from aiohttp<4.0.0,>=3.8.6->llama-index-core<0.11.0,>=0.10.1->llama-index-llms-ollama) (2.3.5)\n",
      "Requirement already satisfied: aiosignal>=1.1.2 in ./.local/lib/python3.10/site-packages (from aiohttp<4.0.0,>=3.8.6->llama-index-core<0.11.0,>=0.10.1->llama-index-llms-ollama) (1.3.1)\n",
      "Requirement already satisfied: attrs>=17.3.0 in /opt/tljh/user/lib/python3.10/site-packages (from aiohttp<4.0.0,>=3.8.6->llama-index-core<0.11.0,>=0.10.1->llama-index-llms-ollama) (24.1.0)\n",
      "Requirement already satisfied: frozenlist>=1.1.1 in ./.local/lib/python3.10/site-packages (from aiohttp<4.0.0,>=3.8.6->llama-index-core<0.11.0,>=0.10.1->llama-index-llms-ollama) (1.4.1)\n",
      "Requirement already satisfied: multidict<7.0,>=4.5 in ./.local/lib/python3.10/site-packages (from aiohttp<4.0.0,>=3.8.6->llama-index-core<0.11.0,>=0.10.1->llama-index-llms-ollama) (6.0.5)\n",
      "Requirement already satisfied: yarl<2.0,>=1.0 in ./.local/lib/python3.10/site-packages (from aiohttp<4.0.0,>=3.8.6->llama-index-core<0.11.0,>=0.10.1->llama-index-llms-ollama) (1.9.4)\n",
      "Requirement already satisfied: async-timeout<5.0,>=4.0 in ./.local/lib/python3.10/site-packages (from aiohttp<4.0.0,>=3.8.6->llama-index-core<0.11.0,>=0.10.1->llama-index-llms-ollama) (4.0.3)\n",
      "Requirement already satisfied: anyio in /opt/tljh/user/lib/python3.10/site-packages (from httpx->llama-index-core<0.11.0,>=0.10.1->llama-index-llms-ollama) (4.4.0)\n",
      "Requirement already satisfied: certifi in /opt/tljh/user/lib/python3.10/site-packages (from httpx->llama-index-core<0.11.0,>=0.10.1->llama-index-llms-ollama) (2022.12.7)\n",
      "Requirement already satisfied: httpcore==1.* in /opt/tljh/user/lib/python3.10/site-packages (from httpx->llama-index-core<0.11.0,>=0.10.1->llama-index-llms-ollama) (1.0.5)\n",
      "Requirement already satisfied: idna in /opt/tljh/user/lib/python3.10/site-packages (from httpx->llama-index-core<0.11.0,>=0.10.1->llama-index-llms-ollama) (3.4)\n",
      "Requirement already satisfied: sniffio in /opt/tljh/user/lib/python3.10/site-packages (from httpx->llama-index-core<0.11.0,>=0.10.1->llama-index-llms-ollama) (1.3.1)\n",
      "Requirement already satisfied: h11<0.15,>=0.13 in /opt/tljh/user/lib/python3.10/site-packages (from httpcore==1.*->httpx->llama-index-core<0.11.0,>=0.10.1->llama-index-llms-ollama) (0.14.0)\n",
      "Requirement already satisfied: click in ./.local/lib/python3.10/site-packages (from nltk!=3.9,>=3.8.1->llama-index-core<0.11.0,>=0.10.1->llama-index-llms-ollama) (8.1.7)\n",
      "Requirement already satisfied: joblib in ./.local/lib/python3.10/site-packages (from nltk!=3.9,>=3.8.1->llama-index-core<0.11.0,>=0.10.1->llama-index-llms-ollama) (1.4.2)\n",
      "Requirement already satisfied: regex>=2021.8.3 in ./.local/lib/python3.10/site-packages (from nltk!=3.9,>=3.8.1->llama-index-core<0.11.0,>=0.10.1->llama-index-llms-ollama) (2024.7.24)\n",
      "Requirement already satisfied: annotated-types>=0.4.0 in ./.local/lib/python3.10/site-packages (from pydantic<3.0->llama-index-core<0.11.0,>=0.10.1->llama-index-llms-ollama) (0.7.0)\n",
      "Requirement already satisfied: pydantic-core==2.20.1 in ./.local/lib/python3.10/site-packages (from pydantic<3.0->llama-index-core<0.11.0,>=0.10.1->llama-index-llms-ollama) (2.20.1)\n",
      "Requirement already satisfied: charset-normalizer<4,>=2 in /opt/tljh/user/lib/python3.10/site-packages (from requests>=2.31.0->llama-index-core<0.11.0,>=0.10.1->llama-index-llms-ollama) (3.1.0)\n",
      "Requirement already satisfied: urllib3<3,>=1.21.1 in /opt/tljh/user/lib/python3.10/site-packages (from requests>=2.31.0->llama-index-core<0.11.0,>=0.10.1->llama-index-llms-ollama) (1.26.15)\n",
      "Requirement already satisfied: greenlet!=0.4.17 in /opt/tljh/user/lib/python3.10/site-packages (from SQLAlchemy>=1.4.49->SQLAlchemy[asyncio]>=1.4.49->llama-index-core<0.11.0,>=0.10.1->llama-index-llms-ollama) (3.0.3)\n",
      "Requirement already satisfied: mypy-extensions>=0.3.0 in ./.local/lib/python3.10/site-packages (from typing-inspect>=0.8.0->llama-index-core<0.11.0,>=0.10.1->llama-index-llms-ollama) (1.0.0)\n",
      "Requirement already satisfied: marshmallow<4.0.0,>=3.18.0 in ./.local/lib/python3.10/site-packages (from dataclasses-json->llama-index-core<0.11.0,>=0.10.1->llama-index-llms-ollama) (3.21.3)\n",
      "Requirement already satisfied: python-dateutil>=2.8.2 in /opt/tljh/user/lib/python3.10/site-packages (from pandas->llama-index-core<0.11.0,>=0.10.1->llama-index-llms-ollama) (2.9.0.post0)\n",
      "Requirement already satisfied: pytz>=2020.1 in ./.local/lib/python3.10/site-packages (from pandas->llama-index-core<0.11.0,>=0.10.1->llama-index-llms-ollama) (2024.1)\n",
      "Requirement already satisfied: tzdata>=2022.7 in ./.local/lib/python3.10/site-packages (from pandas->llama-index-core<0.11.0,>=0.10.1->llama-index-llms-ollama) (2024.1)\n",
      "Requirement already satisfied: packaging>=17.0 in /opt/tljh/user/lib/python3.10/site-packages (from marshmallow<4.0.0,>=3.18.0->dataclasses-json->llama-index-core<0.11.0,>=0.10.1->llama-index-llms-ollama) (24.1)\n",
      "Requirement already satisfied: six>=1.5 in /opt/tljh/user/lib/python3.10/site-packages (from python-dateutil>=2.8.2->pandas->llama-index-core<0.11.0,>=0.10.1->llama-index-llms-ollama) (1.16.0)\n",
      "Requirement already satisfied: exceptiongroup>=1.0.2 in /opt/tljh/user/lib/python3.10/site-packages (from anyio->httpx->llama-index-core<0.11.0,>=0.10.1->llama-index-llms-ollama) (1.2.2)\n",
      "Note: you may need to restart the kernel to use updated packages.\n",
      "Defaulting to user installation because normal site-packages is not writeable\n",
      "Requirement already satisfied: llama-index-embeddings-fastembed in ./.local/lib/python3.10/site-packages (0.1.7)\n",
      "Requirement already satisfied: fastembed>=0.2.2 in ./.local/lib/python3.10/site-packages (from llama-index-embeddings-fastembed) (0.3.4)\n",
      "Requirement already satisfied: llama-index-core<0.11.0,>=0.10.11.post1 in ./.local/lib/python3.10/site-packages (from llama-index-embeddings-fastembed) (0.10.68.post1)\n",
      "Requirement already satisfied: PyStemmer<3.0.0,>=2.2.0 in ./.local/lib/python3.10/site-packages (from fastembed>=0.2.2->llama-index-embeddings-fastembed) (2.2.0.1)\n",
      "Requirement already satisfied: huggingface-hub<1.0,>=0.20 in ./.local/lib/python3.10/site-packages (from fastembed>=0.2.2->llama-index-embeddings-fastembed) (0.24.5)\n",
      "Requirement already satisfied: loguru<0.8.0,>=0.7.2 in ./.local/lib/python3.10/site-packages (from fastembed>=0.2.2->llama-index-embeddings-fastembed) (0.7.2)\n",
      "Requirement already satisfied: mmh3<5.0,>=4.0 in ./.local/lib/python3.10/site-packages (from fastembed>=0.2.2->llama-index-embeddings-fastembed) (4.1.0)\n",
      "Requirement already satisfied: numpy<2,>=1.21 in ./.local/lib/python3.10/site-packages (from fastembed>=0.2.2->llama-index-embeddings-fastembed) (1.26.4)\n",
      "Requirement already satisfied: onnx<2.0.0,>=1.15.0 in ./.local/lib/python3.10/site-packages (from fastembed>=0.2.2->llama-index-embeddings-fastembed) (1.16.2)\n",
      "Requirement already satisfied: onnxruntime<2.0.0,>=1.17.0 in ./.local/lib/python3.10/site-packages (from fastembed>=0.2.2->llama-index-embeddings-fastembed) (1.18.1)\n",
      "Requirement already satisfied: pillow<11.0.0,>=10.3.0 in ./.local/lib/python3.10/site-packages (from fastembed>=0.2.2->llama-index-embeddings-fastembed) (10.4.0)\n",
      "Requirement already satisfied: requests<3.0,>=2.31 in /opt/tljh/user/lib/python3.10/site-packages (from fastembed>=0.2.2->llama-index-embeddings-fastembed) (2.32.3)\n",
      "Requirement already satisfied: snowballstemmer<3.0.0,>=2.2.0 in ./.local/lib/python3.10/site-packages (from fastembed>=0.2.2->llama-index-embeddings-fastembed) (2.2.0)\n",
      "Requirement already satisfied: tokenizers<1.0,>=0.15 in ./.local/lib/python3.10/site-packages (from fastembed>=0.2.2->llama-index-embeddings-fastembed) (0.20.0)\n",
      "Requirement already satisfied: tqdm<5.0,>=4.66 in ./.local/lib/python3.10/site-packages (from fastembed>=0.2.2->llama-index-embeddings-fastembed) (4.66.5)\n",
      "Requirement already satisfied: PyYAML>=6.0.1 in /opt/tljh/user/lib/python3.10/site-packages (from llama-index-core<0.11.0,>=0.10.11.post1->llama-index-embeddings-fastembed) (6.0.1)\n",
      "Requirement already satisfied: SQLAlchemy>=1.4.49 in /opt/tljh/user/lib/python3.10/site-packages (from SQLAlchemy[asyncio]>=1.4.49->llama-index-core<0.11.0,>=0.10.11.post1->llama-index-embeddings-fastembed) (2.0.31)\n",
      "Requirement already satisfied: aiohttp<4.0.0,>=3.8.6 in ./.local/lib/python3.10/site-packages (from llama-index-core<0.11.0,>=0.10.11.post1->llama-index-embeddings-fastembed) (3.10.3)\n",
      "Requirement already satisfied: dataclasses-json in ./.local/lib/python3.10/site-packages (from llama-index-core<0.11.0,>=0.10.11.post1->llama-index-embeddings-fastembed) (0.6.7)\n",
      "Requirement already satisfied: deprecated>=1.2.9.3 in ./.local/lib/python3.10/site-packages (from llama-index-core<0.11.0,>=0.10.11.post1->llama-index-embeddings-fastembed) (1.2.14)\n",
      "Requirement already satisfied: dirtyjson<2.0.0,>=1.0.8 in ./.local/lib/python3.10/site-packages (from llama-index-core<0.11.0,>=0.10.11.post1->llama-index-embeddings-fastembed) (1.0.8)\n",
      "Requirement already satisfied: fsspec>=2023.5.0 in ./.local/lib/python3.10/site-packages (from llama-index-core<0.11.0,>=0.10.11.post1->llama-index-embeddings-fastembed) (2024.6.1)\n",
      "Requirement already satisfied: httpx in /opt/tljh/user/lib/python3.10/site-packages (from llama-index-core<0.11.0,>=0.10.11.post1->llama-index-embeddings-fastembed) (0.27.0)\n",
      "Requirement already satisfied: nest-asyncio<2.0.0,>=1.5.8 in /opt/tljh/user/lib/python3.10/site-packages (from llama-index-core<0.11.0,>=0.10.11.post1->llama-index-embeddings-fastembed) (1.6.0)\n",
      "Requirement already satisfied: networkx>=3.0 in ./.local/lib/python3.10/site-packages (from llama-index-core<0.11.0,>=0.10.11.post1->llama-index-embeddings-fastembed) (3.3)\n",
      "Requirement already satisfied: nltk!=3.9,>=3.8.1 in ./.local/lib/python3.10/site-packages (from llama-index-core<0.11.0,>=0.10.11.post1->llama-index-embeddings-fastembed) (3.8.2)\n",
      "Requirement already satisfied: pandas in ./.local/lib/python3.10/site-packages (from llama-index-core<0.11.0,>=0.10.11.post1->llama-index-embeddings-fastembed) (2.2.2)\n",
      "Requirement already satisfied: pydantic<3.0 in ./.local/lib/python3.10/site-packages (from llama-index-core<0.11.0,>=0.10.11.post1->llama-index-embeddings-fastembed) (2.8.2)\n",
      "Requirement already satisfied: tenacity!=8.4.0,<9.0.0,>=8.2.0 in ./.local/lib/python3.10/site-packages (from llama-index-core<0.11.0,>=0.10.11.post1->llama-index-embeddings-fastembed) (8.5.0)\n",
      "Requirement already satisfied: tiktoken>=0.3.3 in ./.local/lib/python3.10/site-packages (from llama-index-core<0.11.0,>=0.10.11.post1->llama-index-embeddings-fastembed) (0.7.0)\n",
      "Requirement already satisfied: typing-extensions>=4.5.0 in /opt/tljh/user/lib/python3.10/site-packages (from llama-index-core<0.11.0,>=0.10.11.post1->llama-index-embeddings-fastembed) (4.12.2)\n",
      "Requirement already satisfied: typing-inspect>=0.8.0 in ./.local/lib/python3.10/site-packages (from llama-index-core<0.11.0,>=0.10.11.post1->llama-index-embeddings-fastembed) (0.9.0)\n",
      "Requirement already satisfied: wrapt in ./.local/lib/python3.10/site-packages (from llama-index-core<0.11.0,>=0.10.11.post1->llama-index-embeddings-fastembed) (1.16.0)\n",
      "Requirement already satisfied: aiohappyeyeballs>=2.3.0 in ./.local/lib/python3.10/site-packages (from aiohttp<4.0.0,>=3.8.6->llama-index-core<0.11.0,>=0.10.11.post1->llama-index-embeddings-fastembed) (2.3.5)\n",
      "Requirement already satisfied: aiosignal>=1.1.2 in ./.local/lib/python3.10/site-packages (from aiohttp<4.0.0,>=3.8.6->llama-index-core<0.11.0,>=0.10.11.post1->llama-index-embeddings-fastembed) (1.3.1)\n",
      "Requirement already satisfied: attrs>=17.3.0 in /opt/tljh/user/lib/python3.10/site-packages (from aiohttp<4.0.0,>=3.8.6->llama-index-core<0.11.0,>=0.10.11.post1->llama-index-embeddings-fastembed) (24.1.0)\n",
      "Requirement already satisfied: frozenlist>=1.1.1 in ./.local/lib/python3.10/site-packages (from aiohttp<4.0.0,>=3.8.6->llama-index-core<0.11.0,>=0.10.11.post1->llama-index-embeddings-fastembed) (1.4.1)\n",
      "Requirement already satisfied: multidict<7.0,>=4.5 in ./.local/lib/python3.10/site-packages (from aiohttp<4.0.0,>=3.8.6->llama-index-core<0.11.0,>=0.10.11.post1->llama-index-embeddings-fastembed) (6.0.5)\n",
      "Requirement already satisfied: yarl<2.0,>=1.0 in ./.local/lib/python3.10/site-packages (from aiohttp<4.0.0,>=3.8.6->llama-index-core<0.11.0,>=0.10.11.post1->llama-index-embeddings-fastembed) (1.9.4)\n",
      "Requirement already satisfied: async-timeout<5.0,>=4.0 in ./.local/lib/python3.10/site-packages (from aiohttp<4.0.0,>=3.8.6->llama-index-core<0.11.0,>=0.10.11.post1->llama-index-embeddings-fastembed) (4.0.3)\n",
      "Requirement already satisfied: filelock in ./.local/lib/python3.10/site-packages (from huggingface-hub<1.0,>=0.20->fastembed>=0.2.2->llama-index-embeddings-fastembed) (3.15.4)\n",
      "Requirement already satisfied: packaging>=20.9 in /opt/tljh/user/lib/python3.10/site-packages (from huggingface-hub<1.0,>=0.20->fastembed>=0.2.2->llama-index-embeddings-fastembed) (24.1)\n",
      "Requirement already satisfied: click in ./.local/lib/python3.10/site-packages (from nltk!=3.9,>=3.8.1->llama-index-core<0.11.0,>=0.10.11.post1->llama-index-embeddings-fastembed) (8.1.7)\n",
      "Requirement already satisfied: joblib in ./.local/lib/python3.10/site-packages (from nltk!=3.9,>=3.8.1->llama-index-core<0.11.0,>=0.10.11.post1->llama-index-embeddings-fastembed) (1.4.2)\n",
      "Requirement already satisfied: regex>=2021.8.3 in ./.local/lib/python3.10/site-packages (from nltk!=3.9,>=3.8.1->llama-index-core<0.11.0,>=0.10.11.post1->llama-index-embeddings-fastembed) (2024.7.24)\n",
      "Requirement already satisfied: protobuf>=3.20.2 in ./.local/lib/python3.10/site-packages (from onnx<2.0.0,>=1.15.0->fastembed>=0.2.2->llama-index-embeddings-fastembed) (4.25.4)\n",
      "Requirement already satisfied: coloredlogs in ./.local/lib/python3.10/site-packages (from onnxruntime<2.0.0,>=1.17.0->fastembed>=0.2.2->llama-index-embeddings-fastembed) (15.0.1)\n",
      "Requirement already satisfied: flatbuffers in ./.local/lib/python3.10/site-packages (from onnxruntime<2.0.0,>=1.17.0->fastembed>=0.2.2->llama-index-embeddings-fastembed) (24.3.25)\n",
      "Requirement already satisfied: sympy in ./.local/lib/python3.10/site-packages (from onnxruntime<2.0.0,>=1.17.0->fastembed>=0.2.2->llama-index-embeddings-fastembed) (1.13.2)\n",
      "Requirement already satisfied: annotated-types>=0.4.0 in ./.local/lib/python3.10/site-packages (from pydantic<3.0->llama-index-core<0.11.0,>=0.10.11.post1->llama-index-embeddings-fastembed) (0.7.0)\n",
      "Requirement already satisfied: pydantic-core==2.20.1 in ./.local/lib/python3.10/site-packages (from pydantic<3.0->llama-index-core<0.11.0,>=0.10.11.post1->llama-index-embeddings-fastembed) (2.20.1)\n",
      "Requirement already satisfied: charset-normalizer<4,>=2 in /opt/tljh/user/lib/python3.10/site-packages (from requests<3.0,>=2.31->fastembed>=0.2.2->llama-index-embeddings-fastembed) (3.1.0)\n",
      "Requirement already satisfied: idna<4,>=2.5 in /opt/tljh/user/lib/python3.10/site-packages (from requests<3.0,>=2.31->fastembed>=0.2.2->llama-index-embeddings-fastembed) (3.4)\n",
      "Requirement already satisfied: urllib3<3,>=1.21.1 in /opt/tljh/user/lib/python3.10/site-packages (from requests<3.0,>=2.31->fastembed>=0.2.2->llama-index-embeddings-fastembed) (1.26.15)\n",
      "Requirement already satisfied: certifi>=2017.4.17 in /opt/tljh/user/lib/python3.10/site-packages (from requests<3.0,>=2.31->fastembed>=0.2.2->llama-index-embeddings-fastembed) (2022.12.7)\n",
      "Requirement already satisfied: greenlet!=0.4.17 in /opt/tljh/user/lib/python3.10/site-packages (from SQLAlchemy>=1.4.49->SQLAlchemy[asyncio]>=1.4.49->llama-index-core<0.11.0,>=0.10.11.post1->llama-index-embeddings-fastembed) (3.0.3)\n",
      "Requirement already satisfied: mypy-extensions>=0.3.0 in ./.local/lib/python3.10/site-packages (from typing-inspect>=0.8.0->llama-index-core<0.11.0,>=0.10.11.post1->llama-index-embeddings-fastembed) (1.0.0)\n",
      "Requirement already satisfied: marshmallow<4.0.0,>=3.18.0 in ./.local/lib/python3.10/site-packages (from dataclasses-json->llama-index-core<0.11.0,>=0.10.11.post1->llama-index-embeddings-fastembed) (3.21.3)\n",
      "Requirement already satisfied: anyio in /opt/tljh/user/lib/python3.10/site-packages (from httpx->llama-index-core<0.11.0,>=0.10.11.post1->llama-index-embeddings-fastembed) (4.4.0)\n",
      "Requirement already satisfied: httpcore==1.* in /opt/tljh/user/lib/python3.10/site-packages (from httpx->llama-index-core<0.11.0,>=0.10.11.post1->llama-index-embeddings-fastembed) (1.0.5)\n",
      "Requirement already satisfied: sniffio in /opt/tljh/user/lib/python3.10/site-packages (from httpx->llama-index-core<0.11.0,>=0.10.11.post1->llama-index-embeddings-fastembed) (1.3.1)\n",
      "Requirement already satisfied: h11<0.15,>=0.13 in /opt/tljh/user/lib/python3.10/site-packages (from httpcore==1.*->httpx->llama-index-core<0.11.0,>=0.10.11.post1->llama-index-embeddings-fastembed) (0.14.0)\n",
      "Requirement already satisfied: python-dateutil>=2.8.2 in /opt/tljh/user/lib/python3.10/site-packages (from pandas->llama-index-core<0.11.0,>=0.10.11.post1->llama-index-embeddings-fastembed) (2.9.0.post0)\n",
      "Requirement already satisfied: pytz>=2020.1 in ./.local/lib/python3.10/site-packages (from pandas->llama-index-core<0.11.0,>=0.10.11.post1->llama-index-embeddings-fastembed) (2024.1)\n",
      "Requirement already satisfied: tzdata>=2022.7 in ./.local/lib/python3.10/site-packages (from pandas->llama-index-core<0.11.0,>=0.10.11.post1->llama-index-embeddings-fastembed) (2024.1)\n",
      "Requirement already satisfied: six>=1.5 in /opt/tljh/user/lib/python3.10/site-packages (from python-dateutil>=2.8.2->pandas->llama-index-core<0.11.0,>=0.10.11.post1->llama-index-embeddings-fastembed) (1.16.0)\n",
      "Requirement already satisfied: exceptiongroup>=1.0.2 in /opt/tljh/user/lib/python3.10/site-packages (from anyio->httpx->llama-index-core<0.11.0,>=0.10.11.post1->llama-index-embeddings-fastembed) (1.2.2)\n",
      "Requirement already satisfied: humanfriendly>=9.1 in ./.local/lib/python3.10/site-packages (from coloredlogs->onnxruntime<2.0.0,>=1.17.0->fastembed>=0.2.2->llama-index-embeddings-fastembed) (10.0)\n",
      "Requirement already satisfied: mpmath<1.4,>=1.1.0 in ./.local/lib/python3.10/site-packages (from sympy->onnxruntime<2.0.0,>=1.17.0->fastembed>=0.2.2->llama-index-embeddings-fastembed) (1.3.0)\n",
      "Note: you may need to restart the kernel to use updated packages.\n",
      "Defaulting to user installation because normal site-packages is not writeable\n",
      "Requirement already satisfied: fastembed in ./.local/lib/python3.10/site-packages (0.3.4)\n",
      "Requirement already satisfied: PyStemmer<3.0.0,>=2.2.0 in ./.local/lib/python3.10/site-packages (from fastembed) (2.2.0.1)\n",
      "Requirement already satisfied: huggingface-hub<1.0,>=0.20 in ./.local/lib/python3.10/site-packages (from fastembed) (0.24.5)\n",
      "Requirement already satisfied: loguru<0.8.0,>=0.7.2 in ./.local/lib/python3.10/site-packages (from fastembed) (0.7.2)\n",
      "Requirement already satisfied: mmh3<5.0,>=4.0 in ./.local/lib/python3.10/site-packages (from fastembed) (4.1.0)\n",
      "Requirement already satisfied: numpy<2,>=1.21 in ./.local/lib/python3.10/site-packages (from fastembed) (1.26.4)\n",
      "Requirement already satisfied: onnx<2.0.0,>=1.15.0 in ./.local/lib/python3.10/site-packages (from fastembed) (1.16.2)\n",
      "Requirement already satisfied: onnxruntime<2.0.0,>=1.17.0 in ./.local/lib/python3.10/site-packages (from fastembed) (1.18.1)\n",
      "Requirement already satisfied: pillow<11.0.0,>=10.3.0 in ./.local/lib/python3.10/site-packages (from fastembed) (10.4.0)\n",
      "Requirement already satisfied: requests<3.0,>=2.31 in /opt/tljh/user/lib/python3.10/site-packages (from fastembed) (2.32.3)\n",
      "Requirement already satisfied: snowballstemmer<3.0.0,>=2.2.0 in ./.local/lib/python3.10/site-packages (from fastembed) (2.2.0)\n",
      "Requirement already satisfied: tokenizers<1.0,>=0.15 in ./.local/lib/python3.10/site-packages (from fastembed) (0.20.0)\n",
      "Requirement already satisfied: tqdm<5.0,>=4.66 in ./.local/lib/python3.10/site-packages (from fastembed) (4.66.5)\n",
      "Requirement already satisfied: filelock in ./.local/lib/python3.10/site-packages (from huggingface-hub<1.0,>=0.20->fastembed) (3.15.4)\n",
      "Requirement already satisfied: fsspec>=2023.5.0 in ./.local/lib/python3.10/site-packages (from huggingface-hub<1.0,>=0.20->fastembed) (2024.6.1)\n",
      "Requirement already satisfied: packaging>=20.9 in /opt/tljh/user/lib/python3.10/site-packages (from huggingface-hub<1.0,>=0.20->fastembed) (24.1)\n",
      "Requirement already satisfied: pyyaml>=5.1 in /opt/tljh/user/lib/python3.10/site-packages (from huggingface-hub<1.0,>=0.20->fastembed) (6.0.1)\n",
      "Requirement already satisfied: typing-extensions>=3.7.4.3 in /opt/tljh/user/lib/python3.10/site-packages (from huggingface-hub<1.0,>=0.20->fastembed) (4.12.2)\n",
      "Requirement already satisfied: protobuf>=3.20.2 in ./.local/lib/python3.10/site-packages (from onnx<2.0.0,>=1.15.0->fastembed) (4.25.4)\n",
      "Requirement already satisfied: coloredlogs in ./.local/lib/python3.10/site-packages (from onnxruntime<2.0.0,>=1.17.0->fastembed) (15.0.1)\n",
      "Requirement already satisfied: flatbuffers in ./.local/lib/python3.10/site-packages (from onnxruntime<2.0.0,>=1.17.0->fastembed) (24.3.25)\n",
      "Requirement already satisfied: sympy in ./.local/lib/python3.10/site-packages (from onnxruntime<2.0.0,>=1.17.0->fastembed) (1.13.2)\n",
      "Requirement already satisfied: charset-normalizer<4,>=2 in /opt/tljh/user/lib/python3.10/site-packages (from requests<3.0,>=2.31->fastembed) (3.1.0)\n",
      "Requirement already satisfied: idna<4,>=2.5 in /opt/tljh/user/lib/python3.10/site-packages (from requests<3.0,>=2.31->fastembed) (3.4)\n",
      "Requirement already satisfied: urllib3<3,>=1.21.1 in /opt/tljh/user/lib/python3.10/site-packages (from requests<3.0,>=2.31->fastembed) (1.26.15)\n",
      "Requirement already satisfied: certifi>=2017.4.17 in /opt/tljh/user/lib/python3.10/site-packages (from requests<3.0,>=2.31->fastembed) (2022.12.7)\n",
      "Requirement already satisfied: humanfriendly>=9.1 in ./.local/lib/python3.10/site-packages (from coloredlogs->onnxruntime<2.0.0,>=1.17.0->fastembed) (10.0)\n",
      "Requirement already satisfied: mpmath<1.4,>=1.1.0 in ./.local/lib/python3.10/site-packages (from sympy->onnxruntime<2.0.0,>=1.17.0->fastembed) (1.3.0)\n",
      "Note: you may need to restart the kernel to use updated packages.\n",
      "Defaulting to user installation because normal site-packages is not writeable\n",
      "Requirement already satisfied: faiss-gpu in ./.local/lib/python3.10/site-packages (1.7.2)\n",
      "Note: you may need to restart the kernel to use updated packages.\n",
      "Defaulting to user installation because normal site-packages is not writeable\n",
      "\u001b[31mERROR: Could not find a version that satisfies the requirement llama-index-embeddings-faiss (from versions: none)\u001b[0m\u001b[31m\n",
      "\u001b[0m\u001b[31mERROR: No matching distribution found for llama-index-embeddings-faiss\u001b[0m\u001b[31m\n",
      "\u001b[0mNote: you may need to restart the kernel to use updated packages.\n",
      "Defaulting to user installation because normal site-packages is not writeable\n",
      "Requirement already satisfied: llama-index-core in ./.local/lib/python3.10/site-packages (0.10.68.post1)\n",
      "Requirement already satisfied: llama-index-readers-file in ./.local/lib/python3.10/site-packages (0.1.33)\n",
      "Requirement already satisfied: PyYAML>=6.0.1 in /opt/tljh/user/lib/python3.10/site-packages (from llama-index-core) (6.0.1)\n",
      "Requirement already satisfied: SQLAlchemy>=1.4.49 in /opt/tljh/user/lib/python3.10/site-packages (from SQLAlchemy[asyncio]>=1.4.49->llama-index-core) (2.0.31)\n",
      "Requirement already satisfied: aiohttp<4.0.0,>=3.8.6 in ./.local/lib/python3.10/site-packages (from llama-index-core) (3.10.3)\n",
      "Requirement already satisfied: dataclasses-json in ./.local/lib/python3.10/site-packages (from llama-index-core) (0.6.7)\n",
      "Requirement already satisfied: deprecated>=1.2.9.3 in ./.local/lib/python3.10/site-packages (from llama-index-core) (1.2.14)\n",
      "Requirement already satisfied: dirtyjson<2.0.0,>=1.0.8 in ./.local/lib/python3.10/site-packages (from llama-index-core) (1.0.8)\n",
      "Requirement already satisfied: fsspec>=2023.5.0 in ./.local/lib/python3.10/site-packages (from llama-index-core) (2024.6.1)\n",
      "Requirement already satisfied: httpx in /opt/tljh/user/lib/python3.10/site-packages (from llama-index-core) (0.27.0)\n",
      "Requirement already satisfied: nest-asyncio<2.0.0,>=1.5.8 in /opt/tljh/user/lib/python3.10/site-packages (from llama-index-core) (1.6.0)\n",
      "Requirement already satisfied: networkx>=3.0 in ./.local/lib/python3.10/site-packages (from llama-index-core) (3.3)\n",
      "Requirement already satisfied: nltk!=3.9,>=3.8.1 in ./.local/lib/python3.10/site-packages (from llama-index-core) (3.8.2)\n",
      "Requirement already satisfied: numpy<2.0.0 in ./.local/lib/python3.10/site-packages (from llama-index-core) (1.26.4)\n",
      "Requirement already satisfied: pandas in ./.local/lib/python3.10/site-packages (from llama-index-core) (2.2.2)\n",
      "Requirement already satisfied: pillow>=9.0.0 in ./.local/lib/python3.10/site-packages (from llama-index-core) (10.4.0)\n",
      "Requirement already satisfied: pydantic<3.0 in ./.local/lib/python3.10/site-packages (from llama-index-core) (2.8.2)\n",
      "Requirement already satisfied: requests>=2.31.0 in /opt/tljh/user/lib/python3.10/site-packages (from llama-index-core) (2.32.3)\n",
      "Requirement already satisfied: tenacity!=8.4.0,<9.0.0,>=8.2.0 in ./.local/lib/python3.10/site-packages (from llama-index-core) (8.5.0)\n",
      "Requirement already satisfied: tiktoken>=0.3.3 in ./.local/lib/python3.10/site-packages (from llama-index-core) (0.7.0)\n",
      "Requirement already satisfied: tqdm<5.0.0,>=4.66.1 in ./.local/lib/python3.10/site-packages (from llama-index-core) (4.66.5)\n",
      "Requirement already satisfied: typing-extensions>=4.5.0 in /opt/tljh/user/lib/python3.10/site-packages (from llama-index-core) (4.12.2)\n",
      "Requirement already satisfied: typing-inspect>=0.8.0 in ./.local/lib/python3.10/site-packages (from llama-index-core) (0.9.0)\n",
      "Requirement already satisfied: wrapt in ./.local/lib/python3.10/site-packages (from llama-index-core) (1.16.0)\n",
      "Requirement already satisfied: beautifulsoup4<5.0.0,>=4.12.3 in /opt/tljh/user/lib/python3.10/site-packages (from llama-index-readers-file) (4.12.3)\n",
      "Requirement already satisfied: pypdf<5.0.0,>=4.0.1 in ./.local/lib/python3.10/site-packages (from llama-index-readers-file) (4.3.1)\n",
      "Requirement already satisfied: striprtf<0.0.27,>=0.0.26 in ./.local/lib/python3.10/site-packages (from llama-index-readers-file) (0.0.26)\n",
      "Requirement already satisfied: aiohappyeyeballs>=2.3.0 in ./.local/lib/python3.10/site-packages (from aiohttp<4.0.0,>=3.8.6->llama-index-core) (2.3.5)\n",
      "Requirement already satisfied: aiosignal>=1.1.2 in ./.local/lib/python3.10/site-packages (from aiohttp<4.0.0,>=3.8.6->llama-index-core) (1.3.1)\n",
      "Requirement already satisfied: attrs>=17.3.0 in /opt/tljh/user/lib/python3.10/site-packages (from aiohttp<4.0.0,>=3.8.6->llama-index-core) (24.1.0)\n",
      "Requirement already satisfied: frozenlist>=1.1.1 in ./.local/lib/python3.10/site-packages (from aiohttp<4.0.0,>=3.8.6->llama-index-core) (1.4.1)\n",
      "Requirement already satisfied: multidict<7.0,>=4.5 in ./.local/lib/python3.10/site-packages (from aiohttp<4.0.0,>=3.8.6->llama-index-core) (6.0.5)\n",
      "Requirement already satisfied: yarl<2.0,>=1.0 in ./.local/lib/python3.10/site-packages (from aiohttp<4.0.0,>=3.8.6->llama-index-core) (1.9.4)\n",
      "Requirement already satisfied: async-timeout<5.0,>=4.0 in ./.local/lib/python3.10/site-packages (from aiohttp<4.0.0,>=3.8.6->llama-index-core) (4.0.3)\n",
      "Requirement already satisfied: soupsieve>1.2 in /opt/tljh/user/lib/python3.10/site-packages (from beautifulsoup4<5.0.0,>=4.12.3->llama-index-readers-file) (2.5)\n",
      "Requirement already satisfied: click in ./.local/lib/python3.10/site-packages (from nltk!=3.9,>=3.8.1->llama-index-core) (8.1.7)\n",
      "Requirement already satisfied: joblib in ./.local/lib/python3.10/site-packages (from nltk!=3.9,>=3.8.1->llama-index-core) (1.4.2)\n",
      "Requirement already satisfied: regex>=2021.8.3 in ./.local/lib/python3.10/site-packages (from nltk!=3.9,>=3.8.1->llama-index-core) (2024.7.24)\n",
      "Requirement already satisfied: annotated-types>=0.4.0 in ./.local/lib/python3.10/site-packages (from pydantic<3.0->llama-index-core) (0.7.0)\n",
      "Requirement already satisfied: pydantic-core==2.20.1 in ./.local/lib/python3.10/site-packages (from pydantic<3.0->llama-index-core) (2.20.1)\n",
      "Requirement already satisfied: charset-normalizer<4,>=2 in /opt/tljh/user/lib/python3.10/site-packages (from requests>=2.31.0->llama-index-core) (3.1.0)\n",
      "Requirement already satisfied: idna<4,>=2.5 in /opt/tljh/user/lib/python3.10/site-packages (from requests>=2.31.0->llama-index-core) (3.4)\n",
      "Requirement already satisfied: urllib3<3,>=1.21.1 in /opt/tljh/user/lib/python3.10/site-packages (from requests>=2.31.0->llama-index-core) (1.26.15)\n",
      "Requirement already satisfied: certifi>=2017.4.17 in /opt/tljh/user/lib/python3.10/site-packages (from requests>=2.31.0->llama-index-core) (2022.12.7)\n",
      "Requirement already satisfied: greenlet!=0.4.17 in /opt/tljh/user/lib/python3.10/site-packages (from SQLAlchemy>=1.4.49->SQLAlchemy[asyncio]>=1.4.49->llama-index-core) (3.0.3)\n",
      "Requirement already satisfied: mypy-extensions>=0.3.0 in ./.local/lib/python3.10/site-packages (from typing-inspect>=0.8.0->llama-index-core) (1.0.0)\n",
      "Requirement already satisfied: marshmallow<4.0.0,>=3.18.0 in ./.local/lib/python3.10/site-packages (from dataclasses-json->llama-index-core) (3.21.3)\n",
      "Requirement already satisfied: anyio in /opt/tljh/user/lib/python3.10/site-packages (from httpx->llama-index-core) (4.4.0)\n",
      "Requirement already satisfied: httpcore==1.* in /opt/tljh/user/lib/python3.10/site-packages (from httpx->llama-index-core) (1.0.5)\n",
      "Requirement already satisfied: sniffio in /opt/tljh/user/lib/python3.10/site-packages (from httpx->llama-index-core) (1.3.1)\n",
      "Requirement already satisfied: h11<0.15,>=0.13 in /opt/tljh/user/lib/python3.10/site-packages (from httpcore==1.*->httpx->llama-index-core) (0.14.0)\n",
      "Requirement already satisfied: python-dateutil>=2.8.2 in /opt/tljh/user/lib/python3.10/site-packages (from pandas->llama-index-core) (2.9.0.post0)\n",
      "Requirement already satisfied: pytz>=2020.1 in ./.local/lib/python3.10/site-packages (from pandas->llama-index-core) (2024.1)\n",
      "Requirement already satisfied: tzdata>=2022.7 in ./.local/lib/python3.10/site-packages (from pandas->llama-index-core) (2024.1)\n",
      "Requirement already satisfied: packaging>=17.0 in /opt/tljh/user/lib/python3.10/site-packages (from marshmallow<4.0.0,>=3.18.0->dataclasses-json->llama-index-core) (24.1)\n",
      "Requirement already satisfied: six>=1.5 in /opt/tljh/user/lib/python3.10/site-packages (from python-dateutil>=2.8.2->pandas->llama-index-core) (1.16.0)\n",
      "Requirement already satisfied: exceptiongroup>=1.0.2 in /opt/tljh/user/lib/python3.10/site-packages (from anyio->httpx->llama-index-core) (1.2.2)\n",
      "Note: you may need to restart the kernel to use updated packages.\n",
      "Defaulting to user installation because normal site-packages is not writeable\n",
      "Requirement already satisfied: llama-index-vector-stores-faiss in ./.local/lib/python3.10/site-packages (0.1.2)\n",
      "Requirement already satisfied: llama-index-core<0.11.0,>=0.10.1 in ./.local/lib/python3.10/site-packages (from llama-index-vector-stores-faiss) (0.10.68.post1)\n",
      "Requirement already satisfied: PyYAML>=6.0.1 in /opt/tljh/user/lib/python3.10/site-packages (from llama-index-core<0.11.0,>=0.10.1->llama-index-vector-stores-faiss) (6.0.1)\n",
      "Requirement already satisfied: SQLAlchemy>=1.4.49 in /opt/tljh/user/lib/python3.10/site-packages (from SQLAlchemy[asyncio]>=1.4.49->llama-index-core<0.11.0,>=0.10.1->llama-index-vector-stores-faiss) (2.0.31)\n",
      "Requirement already satisfied: aiohttp<4.0.0,>=3.8.6 in ./.local/lib/python3.10/site-packages (from llama-index-core<0.11.0,>=0.10.1->llama-index-vector-stores-faiss) (3.10.3)\n",
      "Requirement already satisfied: dataclasses-json in ./.local/lib/python3.10/site-packages (from llama-index-core<0.11.0,>=0.10.1->llama-index-vector-stores-faiss) (0.6.7)\n",
      "Requirement already satisfied: deprecated>=1.2.9.3 in ./.local/lib/python3.10/site-packages (from llama-index-core<0.11.0,>=0.10.1->llama-index-vector-stores-faiss) (1.2.14)\n",
      "Requirement already satisfied: dirtyjson<2.0.0,>=1.0.8 in ./.local/lib/python3.10/site-packages (from llama-index-core<0.11.0,>=0.10.1->llama-index-vector-stores-faiss) (1.0.8)\n",
      "Requirement already satisfied: fsspec>=2023.5.0 in ./.local/lib/python3.10/site-packages (from llama-index-core<0.11.0,>=0.10.1->llama-index-vector-stores-faiss) (2024.6.1)\n",
      "Requirement already satisfied: httpx in /opt/tljh/user/lib/python3.10/site-packages (from llama-index-core<0.11.0,>=0.10.1->llama-index-vector-stores-faiss) (0.27.0)\n",
      "Requirement already satisfied: nest-asyncio<2.0.0,>=1.5.8 in /opt/tljh/user/lib/python3.10/site-packages (from llama-index-core<0.11.0,>=0.10.1->llama-index-vector-stores-faiss) (1.6.0)\n",
      "Requirement already satisfied: networkx>=3.0 in ./.local/lib/python3.10/site-packages (from llama-index-core<0.11.0,>=0.10.1->llama-index-vector-stores-faiss) (3.3)\n",
      "Requirement already satisfied: nltk!=3.9,>=3.8.1 in ./.local/lib/python3.10/site-packages (from llama-index-core<0.11.0,>=0.10.1->llama-index-vector-stores-faiss) (3.8.2)\n",
      "Requirement already satisfied: numpy<2.0.0 in ./.local/lib/python3.10/site-packages (from llama-index-core<0.11.0,>=0.10.1->llama-index-vector-stores-faiss) (1.26.4)\n",
      "Requirement already satisfied: pandas in ./.local/lib/python3.10/site-packages (from llama-index-core<0.11.0,>=0.10.1->llama-index-vector-stores-faiss) (2.2.2)\n",
      "Requirement already satisfied: pillow>=9.0.0 in ./.local/lib/python3.10/site-packages (from llama-index-core<0.11.0,>=0.10.1->llama-index-vector-stores-faiss) (10.4.0)\n",
      "Requirement already satisfied: pydantic<3.0 in ./.local/lib/python3.10/site-packages (from llama-index-core<0.11.0,>=0.10.1->llama-index-vector-stores-faiss) (2.8.2)\n",
      "Requirement already satisfied: requests>=2.31.0 in /opt/tljh/user/lib/python3.10/site-packages (from llama-index-core<0.11.0,>=0.10.1->llama-index-vector-stores-faiss) (2.32.3)\n",
      "Requirement already satisfied: tenacity!=8.4.0,<9.0.0,>=8.2.0 in ./.local/lib/python3.10/site-packages (from llama-index-core<0.11.0,>=0.10.1->llama-index-vector-stores-faiss) (8.5.0)\n",
      "Requirement already satisfied: tiktoken>=0.3.3 in ./.local/lib/python3.10/site-packages (from llama-index-core<0.11.0,>=0.10.1->llama-index-vector-stores-faiss) (0.7.0)\n",
      "Requirement already satisfied: tqdm<5.0.0,>=4.66.1 in ./.local/lib/python3.10/site-packages (from llama-index-core<0.11.0,>=0.10.1->llama-index-vector-stores-faiss) (4.66.5)\n",
      "Requirement already satisfied: typing-extensions>=4.5.0 in /opt/tljh/user/lib/python3.10/site-packages (from llama-index-core<0.11.0,>=0.10.1->llama-index-vector-stores-faiss) (4.12.2)\n",
      "Requirement already satisfied: typing-inspect>=0.8.0 in ./.local/lib/python3.10/site-packages (from llama-index-core<0.11.0,>=0.10.1->llama-index-vector-stores-faiss) (0.9.0)\n",
      "Requirement already satisfied: wrapt in ./.local/lib/python3.10/site-packages (from llama-index-core<0.11.0,>=0.10.1->llama-index-vector-stores-faiss) (1.16.0)\n",
      "Requirement already satisfied: aiohappyeyeballs>=2.3.0 in ./.local/lib/python3.10/site-packages (from aiohttp<4.0.0,>=3.8.6->llama-index-core<0.11.0,>=0.10.1->llama-index-vector-stores-faiss) (2.3.5)\n",
      "Requirement already satisfied: aiosignal>=1.1.2 in ./.local/lib/python3.10/site-packages (from aiohttp<4.0.0,>=3.8.6->llama-index-core<0.11.0,>=0.10.1->llama-index-vector-stores-faiss) (1.3.1)\n",
      "Requirement already satisfied: attrs>=17.3.0 in /opt/tljh/user/lib/python3.10/site-packages (from aiohttp<4.0.0,>=3.8.6->llama-index-core<0.11.0,>=0.10.1->llama-index-vector-stores-faiss) (24.1.0)\n",
      "Requirement already satisfied: frozenlist>=1.1.1 in ./.local/lib/python3.10/site-packages (from aiohttp<4.0.0,>=3.8.6->llama-index-core<0.11.0,>=0.10.1->llama-index-vector-stores-faiss) (1.4.1)\n",
      "Requirement already satisfied: multidict<7.0,>=4.5 in ./.local/lib/python3.10/site-packages (from aiohttp<4.0.0,>=3.8.6->llama-index-core<0.11.0,>=0.10.1->llama-index-vector-stores-faiss) (6.0.5)\n",
      "Requirement already satisfied: yarl<2.0,>=1.0 in ./.local/lib/python3.10/site-packages (from aiohttp<4.0.0,>=3.8.6->llama-index-core<0.11.0,>=0.10.1->llama-index-vector-stores-faiss) (1.9.4)\n",
      "Requirement already satisfied: async-timeout<5.0,>=4.0 in ./.local/lib/python3.10/site-packages (from aiohttp<4.0.0,>=3.8.6->llama-index-core<0.11.0,>=0.10.1->llama-index-vector-stores-faiss) (4.0.3)\n",
      "Requirement already satisfied: click in ./.local/lib/python3.10/site-packages (from nltk!=3.9,>=3.8.1->llama-index-core<0.11.0,>=0.10.1->llama-index-vector-stores-faiss) (8.1.7)\n",
      "Requirement already satisfied: joblib in ./.local/lib/python3.10/site-packages (from nltk!=3.9,>=3.8.1->llama-index-core<0.11.0,>=0.10.1->llama-index-vector-stores-faiss) (1.4.2)\n",
      "Requirement already satisfied: regex>=2021.8.3 in ./.local/lib/python3.10/site-packages (from nltk!=3.9,>=3.8.1->llama-index-core<0.11.0,>=0.10.1->llama-index-vector-stores-faiss) (2024.7.24)\n",
      "Requirement already satisfied: annotated-types>=0.4.0 in ./.local/lib/python3.10/site-packages (from pydantic<3.0->llama-index-core<0.11.0,>=0.10.1->llama-index-vector-stores-faiss) (0.7.0)\n",
      "Requirement already satisfied: pydantic-core==2.20.1 in ./.local/lib/python3.10/site-packages (from pydantic<3.0->llama-index-core<0.11.0,>=0.10.1->llama-index-vector-stores-faiss) (2.20.1)\n",
      "Requirement already satisfied: charset-normalizer<4,>=2 in /opt/tljh/user/lib/python3.10/site-packages (from requests>=2.31.0->llama-index-core<0.11.0,>=0.10.1->llama-index-vector-stores-faiss) (3.1.0)\n",
      "Requirement already satisfied: idna<4,>=2.5 in /opt/tljh/user/lib/python3.10/site-packages (from requests>=2.31.0->llama-index-core<0.11.0,>=0.10.1->llama-index-vector-stores-faiss) (3.4)\n",
      "Requirement already satisfied: urllib3<3,>=1.21.1 in /opt/tljh/user/lib/python3.10/site-packages (from requests>=2.31.0->llama-index-core<0.11.0,>=0.10.1->llama-index-vector-stores-faiss) (1.26.15)\n",
      "Requirement already satisfied: certifi>=2017.4.17 in /opt/tljh/user/lib/python3.10/site-packages (from requests>=2.31.0->llama-index-core<0.11.0,>=0.10.1->llama-index-vector-stores-faiss) (2022.12.7)\n",
      "Requirement already satisfied: greenlet!=0.4.17 in /opt/tljh/user/lib/python3.10/site-packages (from SQLAlchemy>=1.4.49->SQLAlchemy[asyncio]>=1.4.49->llama-index-core<0.11.0,>=0.10.1->llama-index-vector-stores-faiss) (3.0.3)\n",
      "Requirement already satisfied: mypy-extensions>=0.3.0 in ./.local/lib/python3.10/site-packages (from typing-inspect>=0.8.0->llama-index-core<0.11.0,>=0.10.1->llama-index-vector-stores-faiss) (1.0.0)\n",
      "Requirement already satisfied: marshmallow<4.0.0,>=3.18.0 in ./.local/lib/python3.10/site-packages (from dataclasses-json->llama-index-core<0.11.0,>=0.10.1->llama-index-vector-stores-faiss) (3.21.3)\n",
      "Requirement already satisfied: anyio in /opt/tljh/user/lib/python3.10/site-packages (from httpx->llama-index-core<0.11.0,>=0.10.1->llama-index-vector-stores-faiss) (4.4.0)\n",
      "Requirement already satisfied: httpcore==1.* in /opt/tljh/user/lib/python3.10/site-packages (from httpx->llama-index-core<0.11.0,>=0.10.1->llama-index-vector-stores-faiss) (1.0.5)\n",
      "Requirement already satisfied: sniffio in /opt/tljh/user/lib/python3.10/site-packages (from httpx->llama-index-core<0.11.0,>=0.10.1->llama-index-vector-stores-faiss) (1.3.1)\n",
      "Requirement already satisfied: h11<0.15,>=0.13 in /opt/tljh/user/lib/python3.10/site-packages (from httpcore==1.*->httpx->llama-index-core<0.11.0,>=0.10.1->llama-index-vector-stores-faiss) (0.14.0)\n",
      "Requirement already satisfied: python-dateutil>=2.8.2 in /opt/tljh/user/lib/python3.10/site-packages (from pandas->llama-index-core<0.11.0,>=0.10.1->llama-index-vector-stores-faiss) (2.9.0.post0)\n",
      "Requirement already satisfied: pytz>=2020.1 in ./.local/lib/python3.10/site-packages (from pandas->llama-index-core<0.11.0,>=0.10.1->llama-index-vector-stores-faiss) (2024.1)\n",
      "Requirement already satisfied: tzdata>=2022.7 in ./.local/lib/python3.10/site-packages (from pandas->llama-index-core<0.11.0,>=0.10.1->llama-index-vector-stores-faiss) (2024.1)\n",
      "Requirement already satisfied: packaging>=17.0 in /opt/tljh/user/lib/python3.10/site-packages (from marshmallow<4.0.0,>=3.18.0->dataclasses-json->llama-index-core<0.11.0,>=0.10.1->llama-index-vector-stores-faiss) (24.1)\n",
      "Requirement already satisfied: six>=1.5 in /opt/tljh/user/lib/python3.10/site-packages (from python-dateutil>=2.8.2->pandas->llama-index-core<0.11.0,>=0.10.1->llama-index-vector-stores-faiss) (1.16.0)\n",
      "Requirement already satisfied: exceptiongroup>=1.0.2 in /opt/tljh/user/lib/python3.10/site-packages (from anyio->httpx->llama-index-core<0.11.0,>=0.10.1->llama-index-vector-stores-faiss) (1.2.2)\n",
      "Note: you may need to restart the kernel to use updated packages.\n",
      "Defaulting to user installation because normal site-packages is not writeable\n",
      "Requirement already satisfied: faiss-cpu in ./.local/lib/python3.10/site-packages (1.8.0.post1)\n",
      "Requirement already satisfied: numpy<2.0,>=1.0 in ./.local/lib/python3.10/site-packages (from faiss-cpu) (1.26.4)\n",
      "Requirement already satisfied: packaging in /opt/tljh/user/lib/python3.10/site-packages (from faiss-cpu) (24.1)\n",
      "Note: you may need to restart the kernel to use updated packages.\n",
      "Defaulting to user installation because normal site-packages is not writeable\n",
      "Requirement already satisfied: llama-index in ./.local/lib/python3.10/site-packages (0.10.65)\n",
      "Requirement already satisfied: llama-index-agent-openai<0.3.0,>=0.1.4 in ./.local/lib/python3.10/site-packages (from llama-index) (0.2.9)\n",
      "Requirement already satisfied: llama-index-cli<0.2.0,>=0.1.2 in ./.local/lib/python3.10/site-packages (from llama-index) (0.1.13)\n",
      "Requirement already satisfied: llama-index-core<0.11.0,>=0.10.65 in ./.local/lib/python3.10/site-packages (from llama-index) (0.10.68.post1)\n",
      "Requirement already satisfied: llama-index-embeddings-openai<0.2.0,>=0.1.5 in ./.local/lib/python3.10/site-packages (from llama-index) (0.1.11)\n",
      "Requirement already satisfied: llama-index-indices-managed-llama-cloud>=0.2.0 in ./.local/lib/python3.10/site-packages (from llama-index) (0.2.7)\n",
      "Requirement already satisfied: llama-index-legacy<0.10.0,>=0.9.48 in ./.local/lib/python3.10/site-packages (from llama-index) (0.9.48.post1)\n",
      "Requirement already satisfied: llama-index-llms-openai<0.2.0,>=0.1.27 in ./.local/lib/python3.10/site-packages (from llama-index) (0.1.29)\n",
      "Requirement already satisfied: llama-index-multi-modal-llms-openai<0.2.0,>=0.1.3 in ./.local/lib/python3.10/site-packages (from llama-index) (0.1.9)\n",
      "Requirement already satisfied: llama-index-program-openai<0.2.0,>=0.1.3 in ./.local/lib/python3.10/site-packages (from llama-index) (0.1.7)\n",
      "Requirement already satisfied: llama-index-question-gen-openai<0.2.0,>=0.1.2 in ./.local/lib/python3.10/site-packages (from llama-index) (0.1.3)\n",
      "Requirement already satisfied: llama-index-readers-file<0.2.0,>=0.1.4 in ./.local/lib/python3.10/site-packages (from llama-index) (0.1.33)\n",
      "Requirement already satisfied: llama-index-readers-llama-parse>=0.1.2 in ./.local/lib/python3.10/site-packages (from llama-index) (0.1.6)\n",
      "Requirement already satisfied: openai>=1.14.0 in ./.local/lib/python3.10/site-packages (from llama-index-agent-openai<0.3.0,>=0.1.4->llama-index) (1.40.6)\n",
      "Requirement already satisfied: PyYAML>=6.0.1 in /opt/tljh/user/lib/python3.10/site-packages (from llama-index-core<0.11.0,>=0.10.65->llama-index) (6.0.1)\n",
      "Requirement already satisfied: SQLAlchemy>=1.4.49 in /opt/tljh/user/lib/python3.10/site-packages (from SQLAlchemy[asyncio]>=1.4.49->llama-index-core<0.11.0,>=0.10.65->llama-index) (2.0.31)\n",
      "Requirement already satisfied: aiohttp<4.0.0,>=3.8.6 in ./.local/lib/python3.10/site-packages (from llama-index-core<0.11.0,>=0.10.65->llama-index) (3.10.3)\n",
      "Requirement already satisfied: dataclasses-json in ./.local/lib/python3.10/site-packages (from llama-index-core<0.11.0,>=0.10.65->llama-index) (0.6.7)\n",
      "Requirement already satisfied: deprecated>=1.2.9.3 in ./.local/lib/python3.10/site-packages (from llama-index-core<0.11.0,>=0.10.65->llama-index) (1.2.14)\n",
      "Requirement already satisfied: dirtyjson<2.0.0,>=1.0.8 in ./.local/lib/python3.10/site-packages (from llama-index-core<0.11.0,>=0.10.65->llama-index) (1.0.8)\n",
      "Requirement already satisfied: fsspec>=2023.5.0 in ./.local/lib/python3.10/site-packages (from llama-index-core<0.11.0,>=0.10.65->llama-index) (2024.6.1)\n",
      "Requirement already satisfied: httpx in /opt/tljh/user/lib/python3.10/site-packages (from llama-index-core<0.11.0,>=0.10.65->llama-index) (0.27.0)\n",
      "Requirement already satisfied: nest-asyncio<2.0.0,>=1.5.8 in /opt/tljh/user/lib/python3.10/site-packages (from llama-index-core<0.11.0,>=0.10.65->llama-index) (1.6.0)\n",
      "Requirement already satisfied: networkx>=3.0 in ./.local/lib/python3.10/site-packages (from llama-index-core<0.11.0,>=0.10.65->llama-index) (3.3)\n",
      "Requirement already satisfied: nltk!=3.9,>=3.8.1 in ./.local/lib/python3.10/site-packages (from llama-index-core<0.11.0,>=0.10.65->llama-index) (3.8.2)\n",
      "Requirement already satisfied: numpy<2.0.0 in ./.local/lib/python3.10/site-packages (from llama-index-core<0.11.0,>=0.10.65->llama-index) (1.26.4)\n",
      "Requirement already satisfied: pandas in ./.local/lib/python3.10/site-packages (from llama-index-core<0.11.0,>=0.10.65->llama-index) (2.2.2)\n",
      "Requirement already satisfied: pillow>=9.0.0 in ./.local/lib/python3.10/site-packages (from llama-index-core<0.11.0,>=0.10.65->llama-index) (10.4.0)\n",
      "Requirement already satisfied: pydantic<3.0 in ./.local/lib/python3.10/site-packages (from llama-index-core<0.11.0,>=0.10.65->llama-index) (2.8.2)\n",
      "Requirement already satisfied: requests>=2.31.0 in /opt/tljh/user/lib/python3.10/site-packages (from llama-index-core<0.11.0,>=0.10.65->llama-index) (2.32.3)\n",
      "Requirement already satisfied: tenacity!=8.4.0,<9.0.0,>=8.2.0 in ./.local/lib/python3.10/site-packages (from llama-index-core<0.11.0,>=0.10.65->llama-index) (8.5.0)\n",
      "Requirement already satisfied: tiktoken>=0.3.3 in ./.local/lib/python3.10/site-packages (from llama-index-core<0.11.0,>=0.10.65->llama-index) (0.7.0)\n",
      "Requirement already satisfied: tqdm<5.0.0,>=4.66.1 in ./.local/lib/python3.10/site-packages (from llama-index-core<0.11.0,>=0.10.65->llama-index) (4.66.5)\n",
      "Requirement already satisfied: typing-extensions>=4.5.0 in /opt/tljh/user/lib/python3.10/site-packages (from llama-index-core<0.11.0,>=0.10.65->llama-index) (4.12.2)\n",
      "Requirement already satisfied: typing-inspect>=0.8.0 in ./.local/lib/python3.10/site-packages (from llama-index-core<0.11.0,>=0.10.65->llama-index) (0.9.0)\n",
      "Requirement already satisfied: wrapt in ./.local/lib/python3.10/site-packages (from llama-index-core<0.11.0,>=0.10.65->llama-index) (1.16.0)\n",
      "Requirement already satisfied: llama-cloud>=0.0.11 in ./.local/lib/python3.10/site-packages (from llama-index-indices-managed-llama-cloud>=0.2.0->llama-index) (0.0.13)\n",
      "Requirement already satisfied: beautifulsoup4<5.0.0,>=4.12.3 in /opt/tljh/user/lib/python3.10/site-packages (from llama-index-readers-file<0.2.0,>=0.1.4->llama-index) (4.12.3)\n",
      "Requirement already satisfied: pypdf<5.0.0,>=4.0.1 in ./.local/lib/python3.10/site-packages (from llama-index-readers-file<0.2.0,>=0.1.4->llama-index) (4.3.1)\n",
      "Requirement already satisfied: striprtf<0.0.27,>=0.0.26 in ./.local/lib/python3.10/site-packages (from llama-index-readers-file<0.2.0,>=0.1.4->llama-index) (0.0.26)\n",
      "Requirement already satisfied: llama-parse>=0.4.0 in ./.local/lib/python3.10/site-packages (from llama-index-readers-llama-parse>=0.1.2->llama-index) (0.4.9)\n",
      "Requirement already satisfied: aiohappyeyeballs>=2.3.0 in ./.local/lib/python3.10/site-packages (from aiohttp<4.0.0,>=3.8.6->llama-index-core<0.11.0,>=0.10.65->llama-index) (2.3.5)\n",
      "Requirement already satisfied: aiosignal>=1.1.2 in ./.local/lib/python3.10/site-packages (from aiohttp<4.0.0,>=3.8.6->llama-index-core<0.11.0,>=0.10.65->llama-index) (1.3.1)\n",
      "Requirement already satisfied: attrs>=17.3.0 in /opt/tljh/user/lib/python3.10/site-packages (from aiohttp<4.0.0,>=3.8.6->llama-index-core<0.11.0,>=0.10.65->llama-index) (24.1.0)\n",
      "Requirement already satisfied: frozenlist>=1.1.1 in ./.local/lib/python3.10/site-packages (from aiohttp<4.0.0,>=3.8.6->llama-index-core<0.11.0,>=0.10.65->llama-index) (1.4.1)\n",
      "Requirement already satisfied: multidict<7.0,>=4.5 in ./.local/lib/python3.10/site-packages (from aiohttp<4.0.0,>=3.8.6->llama-index-core<0.11.0,>=0.10.65->llama-index) (6.0.5)\n",
      "Requirement already satisfied: yarl<2.0,>=1.0 in ./.local/lib/python3.10/site-packages (from aiohttp<4.0.0,>=3.8.6->llama-index-core<0.11.0,>=0.10.65->llama-index) (1.9.4)\n",
      "Requirement already satisfied: async-timeout<5.0,>=4.0 in ./.local/lib/python3.10/site-packages (from aiohttp<4.0.0,>=3.8.6->llama-index-core<0.11.0,>=0.10.65->llama-index) (4.0.3)\n",
      "Requirement already satisfied: soupsieve>1.2 in /opt/tljh/user/lib/python3.10/site-packages (from beautifulsoup4<5.0.0,>=4.12.3->llama-index-readers-file<0.2.0,>=0.1.4->llama-index) (2.5)\n",
      "Requirement already satisfied: anyio in /opt/tljh/user/lib/python3.10/site-packages (from httpx->llama-index-core<0.11.0,>=0.10.65->llama-index) (4.4.0)\n",
      "Requirement already satisfied: certifi in /opt/tljh/user/lib/python3.10/site-packages (from httpx->llama-index-core<0.11.0,>=0.10.65->llama-index) (2022.12.7)\n",
      "Requirement already satisfied: httpcore==1.* in /opt/tljh/user/lib/python3.10/site-packages (from httpx->llama-index-core<0.11.0,>=0.10.65->llama-index) (1.0.5)\n",
      "Requirement already satisfied: idna in /opt/tljh/user/lib/python3.10/site-packages (from httpx->llama-index-core<0.11.0,>=0.10.65->llama-index) (3.4)\n",
      "Requirement already satisfied: sniffio in /opt/tljh/user/lib/python3.10/site-packages (from httpx->llama-index-core<0.11.0,>=0.10.65->llama-index) (1.3.1)\n",
      "Requirement already satisfied: h11<0.15,>=0.13 in /opt/tljh/user/lib/python3.10/site-packages (from httpcore==1.*->httpx->llama-index-core<0.11.0,>=0.10.65->llama-index) (0.14.0)\n",
      "Requirement already satisfied: click in ./.local/lib/python3.10/site-packages (from nltk!=3.9,>=3.8.1->llama-index-core<0.11.0,>=0.10.65->llama-index) (8.1.7)\n",
      "Requirement already satisfied: joblib in ./.local/lib/python3.10/site-packages (from nltk!=3.9,>=3.8.1->llama-index-core<0.11.0,>=0.10.65->llama-index) (1.4.2)\n",
      "Requirement already satisfied: regex>=2021.8.3 in ./.local/lib/python3.10/site-packages (from nltk!=3.9,>=3.8.1->llama-index-core<0.11.0,>=0.10.65->llama-index) (2024.7.24)\n",
      "Requirement already satisfied: distro<2,>=1.7.0 in ./.local/lib/python3.10/site-packages (from openai>=1.14.0->llama-index-agent-openai<0.3.0,>=0.1.4->llama-index) (1.9.0)\n",
      "Requirement already satisfied: jiter<1,>=0.4.0 in ./.local/lib/python3.10/site-packages (from openai>=1.14.0->llama-index-agent-openai<0.3.0,>=0.1.4->llama-index) (0.5.0)\n",
      "Requirement already satisfied: annotated-types>=0.4.0 in ./.local/lib/python3.10/site-packages (from pydantic<3.0->llama-index-core<0.11.0,>=0.10.65->llama-index) (0.7.0)\n",
      "Requirement already satisfied: pydantic-core==2.20.1 in ./.local/lib/python3.10/site-packages (from pydantic<3.0->llama-index-core<0.11.0,>=0.10.65->llama-index) (2.20.1)\n",
      "Requirement already satisfied: charset-normalizer<4,>=2 in /opt/tljh/user/lib/python3.10/site-packages (from requests>=2.31.0->llama-index-core<0.11.0,>=0.10.65->llama-index) (3.1.0)\n",
      "Requirement already satisfied: urllib3<3,>=1.21.1 in /opt/tljh/user/lib/python3.10/site-packages (from requests>=2.31.0->llama-index-core<0.11.0,>=0.10.65->llama-index) (1.26.15)\n",
      "Requirement already satisfied: greenlet!=0.4.17 in /opt/tljh/user/lib/python3.10/site-packages (from SQLAlchemy>=1.4.49->SQLAlchemy[asyncio]>=1.4.49->llama-index-core<0.11.0,>=0.10.65->llama-index) (3.0.3)\n",
      "Requirement already satisfied: mypy-extensions>=0.3.0 in ./.local/lib/python3.10/site-packages (from typing-inspect>=0.8.0->llama-index-core<0.11.0,>=0.10.65->llama-index) (1.0.0)\n",
      "Requirement already satisfied: marshmallow<4.0.0,>=3.18.0 in ./.local/lib/python3.10/site-packages (from dataclasses-json->llama-index-core<0.11.0,>=0.10.65->llama-index) (3.21.3)\n",
      "Requirement already satisfied: python-dateutil>=2.8.2 in /opt/tljh/user/lib/python3.10/site-packages (from pandas->llama-index-core<0.11.0,>=0.10.65->llama-index) (2.9.0.post0)\n",
      "Requirement already satisfied: pytz>=2020.1 in ./.local/lib/python3.10/site-packages (from pandas->llama-index-core<0.11.0,>=0.10.65->llama-index) (2024.1)\n",
      "Requirement already satisfied: tzdata>=2022.7 in ./.local/lib/python3.10/site-packages (from pandas->llama-index-core<0.11.0,>=0.10.65->llama-index) (2024.1)\n",
      "Requirement already satisfied: exceptiongroup>=1.0.2 in /opt/tljh/user/lib/python3.10/site-packages (from anyio->httpx->llama-index-core<0.11.0,>=0.10.65->llama-index) (1.2.2)\n",
      "Requirement already satisfied: packaging>=17.0 in /opt/tljh/user/lib/python3.10/site-packages (from marshmallow<4.0.0,>=3.18.0->dataclasses-json->llama-index-core<0.11.0,>=0.10.65->llama-index) (24.1)\n",
      "Requirement already satisfied: six>=1.5 in /opt/tljh/user/lib/python3.10/site-packages (from python-dateutil>=2.8.2->pandas->llama-index-core<0.11.0,>=0.10.65->llama-index) (1.16.0)\n",
      "Note: you may need to restart the kernel to use updated packages.\n"
     ]
    }
   ],
   "source": [
    "%pip install llama-index-llms-ollama\n",
    "%pip install llama-index-embeddings-fastembed\n",
    "%pip install fastembed\n",
    "%pip install faiss-gpu\n",
    "%pip install llama-index-embeddings-faiss\n",
    "%pip install llama-index-core llama-index-readers-file\n",
    "%pip install llama-index-vector-stores-faiss\n",
    "%pip install faiss-cpu\n",
    "%pip install llama-index"
   ]
  },
  {
   "cell_type": "markdown",
   "id": "1e5711ee-4ce6-4312-a6ad-e4cf8175d2e7",
   "metadata": {},
   "source": [
    "### Run this in a terminal tab\n",
    "\n",
    "1. `curl -fsSL https://ollama.com/install.sh | sh`\n"
   ]
  },
  {
   "cell_type": "code",
   "execution_count": 1,
   "id": "5190a05b-2bce-4039-80a9-54593d669ca1",
   "metadata": {},
   "outputs": [
    {
     "name": "stderr",
     "output_type": "stream",
     "text": [
      "[nltk_data] Downloading package punkt_tab to /home/jupyter-\n",
      "[nltk_data]     exouser/.local/lib/python3.10/site-\n",
      "[nltk_data]     packages/llama_index/core/_static/nltk_cache...\n",
      "[nltk_data]   Package punkt_tab is already up-to-date!\n"
     ]
    }
   ],
   "source": [
    "from llama_index.llms.ollama import Ollama\n",
    "from llama_index.core import VectorStoreIndex, SimpleDirectoryReader, Settings, load_index_from_storage, StorageContext, PromptTemplate\n",
    "from llama_index.embeddings.fastembed import FastEmbedEmbedding\n",
    "from llama_index.vector_stores.faiss import FaissVectorStore\n",
    "import faiss\n",
    "from IPython.display import Markdown, display"
   ]
  },
  {
   "cell_type": "code",
   "execution_count": 6,
   "id": "70103373-94a7-42bc-b01a-fb8b8b0380ce",
   "metadata": {},
   "outputs": [],
   "source": [
    "# dimensions of BAAI/bge-small-en-v1.5\n",
    "d = 384 #this number gotten from Huggingface\n",
    "faiss_index = faiss.IndexFlatL2(d)"
   ]
  },
  {
   "cell_type": "code",
   "execution_count": 7,
   "id": "3859470d-7d94-4aaa-8def-afbeb1e8091e",
   "metadata": {},
   "outputs": [],
   "source": [
    "#Choose which LLM you'd like to use for response synthesis\n",
    "llm = Ollama(model='llama3.1', request_timeout=30.0)"
   ]
  },
  {
   "cell_type": "code",
   "execution_count": 8,
   "id": "3cc54918-e3ac-4e09-9c7f-1c377d2c68e6",
   "metadata": {},
   "outputs": [],
   "source": [
    "Settings.llm = llm"
   ]
  },
  {
   "cell_type": "code",
   "execution_count": 9,
   "id": "4f3804c5-3f76-49ea-8ac6-0e73d29e2124",
   "metadata": {},
   "outputs": [
    {
     "name": "stdout",
     "output_type": "stream",
     "text": [
      "CPU times: user 1.25 s, sys: 11.3 ms, total: 1.26 s\n",
      "Wall time: 1.26 s\n"
     ]
    }
   ],
   "source": [
    "%%time\n",
    "documents = SimpleDirectoryReader(\"test_data\").load_data()\n",
    "for i in range(1000000):\n",
    "    pass"
   ]
  },
  {
   "cell_type": "code",
   "execution_count": 10,
   "id": "990423de-cfa4-4f20-bcb5-e5b9eec396b3",
   "metadata": {},
   "outputs": [
    {
     "data": {
      "application/vnd.jupyter.widget-view+json": {
       "model_id": "5b5dfd742e8e406f9a24a36a4d11451c",
       "version_major": 2,
       "version_minor": 0
      },
      "text/plain": [
       "Fetching 5 files:   0%|          | 0/5 [00:00<?, ?it/s]"
      ]
     },
     "metadata": {},
     "output_type": "display_data"
    }
   ],
   "source": [
    "# Set embedding model\n",
    "Settings.embed_model = FastEmbedEmbedding(\n",
    "    model_name = \"BAAI/bge-small-en-v1.5\"\n",
    ")"
   ]
  },
  {
   "cell_type": "code",
   "execution_count": 11,
   "id": "9d76cb22-286a-43a0-838a-cfca75f030d4",
   "metadata": {},
   "outputs": [
    {
     "name": "stdout",
     "output_type": "stream",
     "text": [
      "CPU times: user 38.5 s, sys: 103 ms, total: 38.6 s\n",
      "Wall time: 5.29 s\n"
     ]
    }
   ],
   "source": [
    "%%time\n",
    "vector_store = FaissVectorStore(faiss_index=faiss_index)\n",
    "\n",
    "storage_context = StorageContext.from_defaults(vector_store=vector_store)\n",
    "\n",
    "index = VectorStoreIndex.from_documents(\n",
    "    documents, storage_context=storage_context\n",
    ")\n",
    "for i in range(1000000):\n",
    "    pass"
   ]
  },
  {
   "cell_type": "code",
   "execution_count": 12,
   "id": "f893cf13-3ec0-4241-abb4-9f5f88c13083",
   "metadata": {},
   "outputs": [
    {
     "name": "stdout",
     "output_type": "stream",
     "text": [
      "CPU times: user 30.1 ms, sys: 34 μs, total: 30.1 ms\n",
      "Wall time: 29.3 ms\n"
     ]
    }
   ],
   "source": [
    "%%time\n",
    "# save index to disk\n",
    "index.storage_context.persist()\n",
    "for i in range(1000000):\n",
    "    pass"
   ]
  },
  {
   "cell_type": "code",
   "execution_count": 16,
   "id": "cdef85dd-cdac-498f-8e63-e654296909b5",
   "metadata": {},
   "outputs": [
    {
     "name": "stdout",
     "output_type": "stream",
     "text": [
      "CPU times: user 31.3 ms, sys: 0 ns, total: 31.3 ms\n",
      "Wall time: 30.4 ms\n"
     ]
    }
   ],
   "source": [
    "%%time\n",
    "# load index from disk\n",
    "vector_store = FaissVectorStore.from_persist_dir(\"./storage\")\n",
    "storage_context = StorageContext.from_defaults(\n",
    "    vector_store=vector_store, persist_dir=\"./storage\"\n",
    ")\n",
    "index = load_index_from_storage(storage_context=storage_context)\n",
    "for i in range(1000000):\n",
    "    pass"
   ]
  },
  {
   "cell_type": "code",
   "execution_count": 17,
   "id": "3b4d2538-1f07-430f-b185-16a83a2cb214",
   "metadata": {
    "scrolled": true
   },
   "outputs": [
    {
     "name": "stdout",
     "output_type": "stream",
     "text": [
      "CPU times: user 325 ms, sys: 4.26 ms, total: 329 ms\n",
      "Wall time: 688 ms\n"
     ]
    }
   ],
   "source": [
    "%%time\n",
    "query_engine = index.as_query_engine(streaming=False, similarity_top_k=3)\n",
    "response = query_engine.query(\"what color is the waterfowl, and what does it not symbolize??\")\n",
    "for i in range(1000000):\n",
    "    pass"
   ]
  },
  {
   "cell_type": "code",
   "execution_count": 20,
   "id": "f9dd887b-367e-4a45-812a-1bf945a0fe10",
   "metadata": {},
   "outputs": [],
   "source": [
    "response = query_engine.query(\"what is the banana?\")\n",
    "for i in range(1000000):\n",
    "    pass"
   ]
  },
  {
   "cell_type": "code",
   "execution_count": 21,
   "id": "63f14893-ce81-444c-9e54-0ac0b27d2e04",
   "metadata": {},
   "outputs": [
    {
     "data": {
      "text/markdown": [
       "There is no mention of a banana in the provided context."
      ],
      "text/plain": [
       "<IPython.core.display.Markdown object>"
      ]
     },
     "metadata": {},
     "output_type": "display_data"
    }
   ],
   "source": [
    "display(Markdown(f\"{response}\"))"
   ]
  },
  {
   "cell_type": "code",
   "execution_count": 13,
   "id": "9c38be9e-9d07-4580-84a9-2a7727be5a3a",
   "metadata": {
    "scrolled": true
   },
   "outputs": [
    {
     "data": {
      "text/markdown": [
       "Quality Control (QC) checklists must be completed at each stage of the process. Any deviations from the ADD or MSS must be documented and approved by the Galactic Curator.\n",
       "\n",
       "In other words, you should perform a QC checklist step after Step 3.5 in the Quantum Fabrication Process section, which is to conduct a Quality Control (QC) check upon completion, assessing the artifact against the ADD and MSS for defects, accuracy, and overall quality.\n",
       "\n",
       "However, this does not mean that you should only do a QC checklist at this point. Based on the context provided, it seems that QC checks are an integral part of each step in the process, where \"any deviations from the ADD or MSS must be documented and approved by the Galactic Curator\".\n",
       "\n",
       "Therefore, it would be best to perform a QC check after every step, or at least after every significant milestone in the process, to ensure that everything is going as planned and to catch any potential issues early on."
      ],
      "text/plain": [
       "<IPython.core.display.Markdown object>"
      ]
     },
     "metadata": {},
     "output_type": "display_data"
    },
    {
     "name": "stdout",
     "output_type": "stream",
     "text": [
      "CPU times: user 331 ms, sys: 3.27 ms, total: 334 ms\n",
      "Wall time: 4.31 s\n"
     ]
    }
   ],
   "source": [
    "%%time\n",
    "query_engine = index.as_query_engine(streaming=False, similarity_top_k=4)\n",
    "response = query_engine.query(\"When do I do the QA steps? after which steps? is it every single one?\")\n",
    "for i in range(1000000):\n",
    "    pass\n",
    "display(Markdown(f\"{response}\"))"
   ]
  },
  {
   "cell_type": "markdown",
   "id": "25fee006-1681-4cd8-bfcd-2cba737fb5c3",
   "metadata": {},
   "source": [
    "If the model is not answering the question correctly, we must start thinking about optimizing our data, or the processes used to index and retrieve the data"
   ]
  },
  {
   "cell_type": "markdown",
   "id": "0be74583-c82d-4732-8949-591c05bf7831",
   "metadata": {},
   "source": [
    "We're using a VM of course for this workshop. But this entire Workflow can be run on a macbook. Granted it will be much slower (think minutes to hours, not seconds) but with a GPU this process can be an extremely capable offline alternative to similar services from OpenAI, Google, and Amazon.  \n",
    "\n",
    "For more tutorials and user-friendly documentation please visit https://docs.llamaindex.ai/en/stable/\n"
   ]
  },
  {
   "cell_type": "code",
   "execution_count": null,
   "id": "e6371f36-8111-4e50-a1aa-967ba0189813",
   "metadata": {},
   "outputs": [],
   "source": []
  }
 ],
 "metadata": {
  "kernelspec": {
   "display_name": "Python 3 (ipykernel)",
   "language": "python",
   "name": "python3"
  },
  "language_info": {
   "codemirror_mode": {
    "name": "ipython",
    "version": 3
   },
   "file_extension": ".py",
   "mimetype": "text/x-python",
   "name": "python",
   "nbconvert_exporter": "python",
   "pygments_lexer": "ipython3",
   "version": "3.10.10"
  }
 },
 "nbformat": 4,
 "nbformat_minor": 5
}
